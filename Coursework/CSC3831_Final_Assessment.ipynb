{
  "nbformat": 4,
  "nbformat_minor": 0,
  "metadata": {
    "colab": {
      "provenance": []
    },
    "kernelspec": {
      "name": "python3",
      "display_name": "Python 3"
    },
    "language_info": {
      "name": "python"
    }
  },
  "cells": [
    {
      "cell_type": "markdown",
      "source": [
        "# CSC3831 Final Assessment - Part I: Data Engineering\n",
        "Rishabh Kishore 190025854\n"
      ],
      "metadata": {
        "id": "SsFtldtMYMGG"
      }
    },
    {
      "cell_type": "code",
      "execution_count": 5,
      "metadata": {
        "id": "CXEwmOVfYG8b"
      },
      "outputs": [],
      "source": [
        "# Loading in standard packages for analysis, feel free to add an extra packages you'd like to use here\n",
        "import random\n",
        "import pandas as pd\n",
        "import numpy as np\n",
        "import seaborn as sns\n",
        "import missingno as msno\n",
        "# Loading in the corrupted dataset to be used in analysis and imputation\n",
        "houses_corrupted = pd.read_csv('https://raw.githubusercontent.com/PaoloMissier/CSC3831-2021-22/main/IMPUTATION/TARGET-DATASETS/CORRUPTED/HOUSES/houses_0.1_MAR.csv', header=0)\n",
        "# Remove an artifact from the dataset\n",
        "houses_corrupted.drop([\"Unnamed: 0\"], axis=1, inplace=True)"
      ]
    },
    {
      "cell_type": "markdown",
      "source": [
        "Above we've loaded in a corrupted version of a housing dataset. The anomalies need to be dealt with and missing values imputed."
      ],
      "metadata": {
        "id": "-UkViOchMMIg"
      }
    },
    {
      "cell_type": "markdown",
      "source": [
        "### 1. Data Understanding [7]\n",
        "- Perform ad hoc EDA to understand and describe what you see in the raw dataset\n",
        "  - Include graphs, statistics, and written descritpions as appropriate\n",
        "  - Any extra information about the data you can provide here is useful, think about performing an analysis (ED**A**), what would you find interesting or useful?\n",
        "- Identify features with missing records, outlier records\n"
      ],
      "metadata": {
        "id": "abwbd_vBYsv7"
      }
    },
    {
      "cell_type": "markdown",
      "source": [
        "### Data Understanding.\n",
        "First and foremost I'll test to see whether the dataset is being accessed correctly and check its layout by printing the head and tail, from there we'll be able to gather which attributes we're working with, as well as the number of records within the dataset.\n"
      ],
      "metadata": {
        "id": "TEup2xPsIgEi"
      }
    },
    {
      "cell_type": "code",
      "source": [
        "print(houses_corrupted.head())\n",
        "print(houses_corrupted.tail())"
      ],
      "metadata": {
        "id": "G04uriMrZH7P",
        "colab": {
          "base_uri": "https://localhost:8080/"
        },
        "outputId": "95d17705-9180-429f-9017-cda2d0216e49"
      },
      "execution_count": 7,
      "outputs": [
        {
          "output_type": "stream",
          "name": "stdout",
          "text": [
            "   median_house_value  median_income  housing_median_age  total_rooms  \\\n",
            "0            452600.0         8.3252                41.0        880.0   \n",
            "1            358500.0         8.3014                21.0       7099.0   \n",
            "2            352100.0         7.2574                52.0       1467.0   \n",
            "3            341300.0         5.6431                52.0       1274.0   \n",
            "4            342200.0         3.8462                52.0       1627.0   \n",
            "\n",
            "   total_bedrooms  population  households  latitude  longitude  \n",
            "0           129.0       322.0       126.0     37.88    -122.23  \n",
            "1          1106.0      2401.0      1138.0     37.86    -122.22  \n",
            "2           190.0         NaN       177.0     37.85    -122.24  \n",
            "3           235.0         NaN       219.0     37.85    -122.25  \n",
            "4           280.0       565.0       259.0     37.85    -122.25  \n",
            "       median_house_value  median_income  housing_median_age  total_rooms  \\\n",
            "20635             78100.0         1.5603                25.0       1665.0   \n",
            "20636             77100.0         2.5568                18.0        697.0   \n",
            "20637             92300.0         1.7000                 NaN       2254.0   \n",
            "20638             84700.0         1.8672                18.0       1860.0   \n",
            "20639             89400.0         2.3886                16.0       2785.0   \n",
            "\n",
            "       total_bedrooms  population  households  latitude  longitude  \n",
            "20635           374.0       845.0       330.0     39.48    -121.09  \n",
            "20636           150.0       356.0       114.0     39.49    -121.21  \n",
            "20637           485.0      1007.0       433.0     39.43    -121.22  \n",
            "20638           409.0       741.0       349.0     39.43    -121.32  \n",
            "20639           616.0      1387.0       530.0     39.37    -121.24  \n"
          ]
        }
      ]
    },
    {
      "cell_type": "markdown",
      "source": [
        "Before we begin our anomaly analysis we see the data itself appears to contain somewhat over 20000 rows of information, meaning it is difficult to examine the surface properties just by glancing at it. As such it would be best to employ a data visualisation method such as a graph to try and comprehend the bigger picture.\n"
      ],
      "metadata": {
        "id": "egAJXXCPPmOc"
      }
    },
    {
      "cell_type": "markdown",
      "source": [
        "### 2. Outlier Identification [10]\n",
        "- Utilise a statistical outlier detection approach (i.e., **no** KNN, LOF, 1Class SVM)\n",
        "- Utilise an algorithmic outlier detection method of your choice\n",
        "- Compare results and decide what to do with identified outleirs\n",
        "  - Include graphs, statistics, and written descriptions as appropriate\n",
        "- Explain what you are doing, and why your analysis is appropriate\n",
        "- Comment on benefits/detriments of statistical and algorithmic outlier detection approaches\n"
      ],
      "metadata": {
        "id": "CR74DAF_ZQUy"
      }
    },
    {
      "cell_type": "code",
      "source": [],
      "metadata": {
        "id": "jPsaKYCZZPkv"
      },
      "execution_count": null,
      "outputs": []
    },
    {
      "cell_type": "markdown",
      "source": [
        "### 3. Imputation [10]\n",
        "- Identify which features should be imputed and which should be removed\n",
        "  - Provide a written rationale for this decision\n",
        "- Impute the missing records using KNN imputation\n",
        "- Impute the missing records using MICE imputation\n",
        "- Compare both imputed datasets feature distributions against each other and the non-imputed data\n",
        "- Build a regressor on all thre datasets\n",
        "  - Use regression models to predict house median price\n",
        "  - Compare regressors of non-imputed data against imputed datas\n",
        "  - **Note**: If you're struggling to compare against the original dataset focus on comparing the two imputed datasets against each other\n"
      ],
      "metadata": {
        "id": "MOZ1nqTXZswr"
      }
    },
    {
      "cell_type": "code",
      "source": [
        "# Use this dataset for comparison against the imputed datasets\n",
        "houses = pd.read_csv('https://raw.githubusercontent.com/PaoloMissier/CSC3831-2021-22/main/IMPUTATION/TARGET-DATASETS/ORIGINAL/houses.csv', header=0)"
      ],
      "metadata": {
        "id": "JdfHAY07QCef"
      },
      "execution_count": null,
      "outputs": []
    },
    {
      "cell_type": "markdown",
      "source": [
        "### 4. Conclusions & Throughts [3]\n",
        "- Disucss methods used for anomaly detection, pros/cons of each method\n",
        "- Disucss challenges/difficulties in anomaly detection implementation\n",
        "- Discuss methods used for imputation, pros/cons of each method\n",
        "- Discuss challenges/difficulties in imputation implementation"
      ],
      "metadata": {
        "id": "NtLeRqcsQRpB"
      }
    },
    {
      "cell_type": "markdown",
      "source": [],
      "metadata": {
        "id": "7lrraskvQnKu"
      }
    }
  ]
}